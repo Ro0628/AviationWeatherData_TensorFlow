{
  "cells": [
    {
      "cell_type": "code",
      "execution_count": 26,
      "metadata": {
        "pycharm": {}
      },
      "outputs": [],
      "source": "#import ANN_Weather_Forecasting"
    },
    {
      "cell_type": "code",
      "execution_count": 1,
      "metadata": {
        "pycharm": {}
      },
      "outputs": [],
      "source": [
        "import pandas as pd  \n",
        "import numpy as np  \n",
        "import tensorflow as tf  \n",
        "from sklearn.metrics import explained_variance_score,mean_absolute_error, median_absolute_error"
      ]
    },
    {
      "cell_type": "code",
      "execution_count": 2,
      "metadata": {
        "scrolled": true,
        "pycharm": {}
      },
      "outputs": [
        {
          "name": "stdout",
          "output_type": "stream",
          "text": [
            "\u003cclass \u0027pandas.core.frame.DataFrame\u0027\u003e\n",
            "RangeIndex: 39438 entries, 0 to 39437\n",
            "Data columns (total 33 columns):\n",
            "Unnamed: 0                                       39438 non-null int64\n",
            "AVG_DAILY_TEMP_ALL_HOURS__F                      39438 non-null float64\n",
            "STATION_CODES                                    39438 non-null int64\n",
            "DEPART_NORMAL__HDDS_FROM_XN__BASE_OF_65_F_1      39437 non-null float64\n",
            "DEPART_NORMAL__HDDS_FROM_XN__BASE_OF_65_F_2      39436 non-null float64\n",
            "DEPART_NORMAL__HDDS_FROM_XN__BASE_OF_65_F_3      39435 non-null float64\n",
            "DEPART_NORMAL__EDDS_FROM_XN__BASE_OF_65_F_1      39437 non-null float64\n",
            "DEPART_NORMAL__EDDS_FROM_XN__BASE_OF_65_F_2      39436 non-null float64\n",
            "DEPART_NORMAL__EDDS_FROM_XN__BASE_OF_65_F_3      39435 non-null float64\n",
            "NORMAL_GROWING_DEGREE_DAYS_XN__BASE_OF_50_F_1    39437 non-null float64\n",
            "NORMAL_GROWING_DEGREE_DAYS_XN__BASE_OF_50_F_2    39436 non-null float64\n",
            "NORMAL_GROWING_DEGREE_DAYS_XN__BASE_OF_50_F_3    39435 non-null float64\n",
            "COLDEST_WINDCHILL_TEMP__F_1                      39437 non-null float64\n",
            "COLDEST_WINDCHILL_TEMP__F_2                      39436 non-null float64\n",
            "COLDEST_WINDCHILL_TEMP__F_3                      39435 non-null float64\n",
            "AVG_DAILY_TEMP_ALL_HOURS__F_1                    39437 non-null float64\n",
            "AVG_DAILY_TEMP_ALL_HOURS__F_2                    39436 non-null float64\n",
            "AVG_DAILY_TEMP_ALL_HOURS__F_3                    39435 non-null float64\n",
            "NORMAL_AVG_DAILY_WET_BULB_TEMP_ALL_HOURS__F_1    39437 non-null float64\n",
            "NORMAL_AVG_DAILY_WET_BULB_TEMP_ALL_HOURS__F_2    39436 non-null float64\n",
            "NORMAL_AVG_DAILY_WET_BULB_TEMP_ALL_HOURS__F_3    39435 non-null float64\n",
            "DEPART_NORMAL__CDDS_ALL_HOURS__BASE_OF_65_F_1    39437 non-null float64\n",
            "DEPART_NORMAL__CDDS_ALL_HOURS__BASE_OF_65_F_2    39436 non-null float64\n",
            "DEPART_NORMAL__CDDS_ALL_HOURS__BASE_OF_65_F_3    39435 non-null float64\n",
            "DEPART_NORMAL__EDDS_ALL_HOURS__BASE_OF_65_F_1    39437 non-null float64\n",
            "DEPART_NORMAL__EDDS_ALL_HOURS__BASE_OF_65_F_2    39436 non-null float64\n",
            "DEPART_NORMAL__EDDS_ALL_HOURS__BASE_OF_65_F_3    39435 non-null float64\n",
            "HIGH_TEMP_F_1                                    39437 non-null float64\n",
            "HIGH_TEMP_F_2                                    39436 non-null float64\n",
            "HIGH_TEMP_F_3                                    39435 non-null float64\n",
            "DFN_AVG_DAILY_TEMP_XN__F_1                       39437 non-null float64\n",
            "DFN_AVG_DAILY_TEMP_XN__F_2                       39436 non-null float64\n",
            "DFN_AVG_DAILY_TEMP_XN__F_3                       39435 non-null float64\n",
            "dtypes: float64(31), int64(2)\n",
            "memory usage: 9.9 MB\n"
          ]
        }
      ],
      "source": [
        "#import file names\n",
        "from file_names import file_cleaned, file_test,file_train\n",
        "\n",
        "\n",
        "\n",
        "#import data\n",
        "\n",
        "df_weather_train_set \u003d pd.read_csv(file_train)\n",
        "df_weather_train_set.describe().T\n",
        "df_weather_train_set.info()\n",
        "df_weather_train_set_filtered \u003d df_weather_train_set[(df_weather_train_set[\u0027STATION_CODES\u0027] \u003d\u003d 2)]\n",
        "df_weather_train_set_filtered\u003ddf_weather_train_set_filtered.drop(\u0027Unnamed: 0\u0027, axis\u003d1)\n",
        "\n",
        "# SPLIT TESTING AND VALIDATION SET BY SPLITTING LOCATIONS FOR YEARS AFTER 2005\n",
        "df_weather_test_set \u003d pd.read_csv(file_test)\n",
        "\n",
        "# ToDo: Not sure whereS the extra 0 is coming from but must remove it\n",
        "df_weather_test_set\u003ddf_weather_test_set.drop(\u0027Unnamed: 0\u0027, axis\u003d1)\n",
        "df_weather_test_set_validation \u003d df_weather_test_set[(df_weather_test_set[\u0027STATION_CODES\u0027] \u003d\u003d 9)]\n",
        "df_weather_test_set \u003d df_weather_test_set[(df_weather_test_set[\u0027STATION_CODES\u0027] \u003d\u003d 16)]\n",
        "\n",
        "frames \u003d [df_weather_train_set_filtered, df_weather_test_set_validation, df_weather_test_set]\n",
        "df_weather_all \u003d pd.concat(frames)\n",
        "\n",
        "# print(df_weather_train_set_filtered.shape)\n",
        "# print(df_weather_test_set.shape)\n",
        "# print(df_weather_test_set_validation.shape)\n",
        "# print(df_weather_all.shape)\n",
        "\n",
        "#combined weather dataset\n",
        "X \u003d df_weather_all[[col for col in df_weather_all.columns if col !\u003d \u0027AVG_DAILY_TEMP_ALL_HOURS__F\u0027]]\n",
        "y  \u003d df_weather_all[\u0027AVG_DAILY_TEMP_ALL_HOURS__F\u0027]\n",
        "\n",
        "# Train, Validate \u0026 Test sets\n",
        "\n",
        "# X will be a pandas dataframe of all columns except AVG_DAILY_TEMP_ALL_HOURS__F\n",
        "# y will be a pandas series of the AVG_DAILY_TEMP_ALL_HOURS__F\n",
        "X_val \u003d df_weather_test_set_validation[[col for col in df_weather_test_set_validation.columns if col !\u003d \u0027AVG_DAILY_TEMP_ALL_HOURS__F\u0027]]\n",
        "y_val \u003d df_weather_test_set_validation[\u0027AVG_DAILY_TEMP_ALL_HOURS__F\u0027]\n",
        "\n",
        "X_test \u003d df_weather_test_set[[col for col in df_weather_test_set.columns if col !\u003d \u0027AVG_DAILY_TEMP_ALL_HOURS__F\u0027]]\n",
        "y_test \u003d df_weather_test_set[\u0027AVG_DAILY_TEMP_ALL_HOURS__F\u0027]\n",
        "\n",
        "X_train\u003d df_weather_train_set_filtered[[col for col in df_weather_train_set_filtered.columns if col !\u003d \u0027AVG_DAILY_TEMP_ALL_HOURS__F\u0027]]\n",
        "y_train \u003d df_weather_train_set_filtered[\u0027AVG_DAILY_TEMP_ALL_HOURS__F\u0027]\n",
        "\n",
        "\n",
        "feature_cols \u003d [tf.feature_column.numeric_column(col) for col in X.columns]\n",
        "# print(feature_cols)\n",
        "\n",
        "\n",
        "# X_train \u003d X_train.drop([\u0027DEPART_NORMAL__HDDS_FROM_XN__BASE_OF_65_F_2\u0027,\u0027DEPART_NORMAL__HDDS_FROM_XN__BASE_OF_65_F_3\u0027,\n",
        "#        \u0027DEPART_NORMAL__EDDS_FROM_XN__BASE_OF_65_F_2\u0027,\n",
        "#        \u0027DEPART_NORMAL__EDDS_FROM_XN__BASE_OF_65_F_3\u0027,\n",
        "#        \u0027NORMAL_GROWING_DEGREE_DAYS_XN__BASE_OF_50_F_2\u0027,\n",
        "#        \u0027NORMAL_GROWING_DEGREE_DAYS_XN__BASE_OF_50_F_3\u0027, \u0027COLDEST_WINDCHILL_TEMP__F_2\u0027,\n",
        "#        \u0027COLDEST_WINDCHILL_TEMP__F_3\u0027,\n",
        "#        \u0027AVG_DAILY_TEMP_ALL_HOURS__F_2\u0027, \u0027AVG_DAILY_TEMP_ALL_HOURS__F_3\u0027,\n",
        "#        \u0027NORMAL_AVG_DAILY_WET_BULB_TEMP_ALL_HOURS__F_2\u0027,\n",
        "#        \u0027NORMAL_AVG_DAILY_WET_BULB_TEMP_ALL_HOURS__F_3\u0027,\n",
        "#        \u0027DEPART_NORMAL__CDDS_ALL_HOURS__BASE_OF_65_F_2\u0027,\n",
        "#        \u0027DEPART_NORMAL__CDDS_ALL_HOURS__BASE_OF_65_F_3\u0027, \n",
        "#        \u0027HIGH_TEMP_F_2\u0027, \u0027HIGH_TEMP_F_3\u0027,\n",
        "#        \u0027DEPART_NORMAL__EDDS_ALL_HOURS__BASE_OF_65_F_2\u0027,\n",
        "#        \u0027DEPART_NORMAL__EDDS_ALL_HOURS__BASE_OF_65_F_3\u0027,\n",
        "#         \u0027DFN_AVG_DAILY_TEMP_XN__F_2\u0027,\n",
        "#        \u0027DFN_AVG_DAILY_TEMP_XN__F_3\u0027] , axis\u003d1)\n",
        "\n",
        "# X_test \u003d X_test.drop([\u0027DEPART_NORMAL__HDDS_FROM_XN__BASE_OF_65_F_2\u0027,\u0027DEPART_NORMAL__HDDS_FROM_XN__BASE_OF_65_F_3\u0027,\n",
        "#        \u0027DEPART_NORMAL__EDDS_FROM_XN__BASE_OF_65_F_2\u0027,\n",
        "#        \u0027DEPART_NORMAL__EDDS_FROM_XN__BASE_OF_65_F_3\u0027,\n",
        "#        \u0027NORMAL_GROWING_DEGREE_DAYS_XN__BASE_OF_50_F_2\u0027,\n",
        "#        \u0027NORMAL_GROWING_DEGREE_DAYS_XN__BASE_OF_50_F_3\u0027, \u0027COLDEST_WINDCHILL_TEMP__F_2\u0027,\n",
        "#        \u0027COLDEST_WINDCHILL_TEMP__F_3\u0027,\n",
        "#        \u0027AVG_DAILY_TEMP_ALL_HOURS__F_2\u0027, \u0027AVG_DAILY_TEMP_ALL_HOURS__F_3\u0027,\n",
        "#        \u0027NORMAL_AVG_DAILY_WET_BULB_TEMP_ALL_HOURS__F_2\u0027,\n",
        "#        \u0027NORMAL_AVG_DAILY_WET_BULB_TEMP_ALL_HOURS__F_3\u0027,\n",
        "#        \u0027DEPART_NORMAL__CDDS_ALL_HOURS__BASE_OF_65_F_2\u0027,\n",
        "#        \u0027DEPART_NORMAL__CDDS_ALL_HOURS__BASE_OF_65_F_3\u0027, \n",
        "#        \u0027HIGH_TEMP_F_2\u0027, \u0027HIGH_TEMP_F_3\u0027,\n",
        "#        \u0027DEPART_NORMAL__EDDS_ALL_HOURS__BASE_OF_65_F_2\u0027,\n",
        "#        \u0027DEPART_NORMAL__EDDS_ALL_HOURS__BASE_OF_65_F_3\u0027,\n",
        "#         \u0027DFN_AVG_DAILY_TEMP_XN__F_2\u0027,\n",
        "#        \u0027DFN_AVG_DAILY_TEMP_XN__F_3\u0027] , axis\u003d1)\n",
        "\n"
      ]
    },
    {
      "cell_type": "code",
      "execution_count": 3,
      "metadata": {
        "pycharm": {}
      },
      "outputs": [
        {
          "name": "stdout",
          "output_type": "stream",
          "text": [
            "(2191, 31)\n",
            "(2191,)\n",
            "(731, 31)\n",
            "(731,)\n",
            "      STATION_CODES  DEPART_NORMAL__HDDS_FROM_XN__BASE_OF_65_F_1  \\\n",
            "4382              2                                          6.5   \n",
            "4383              2                                        -10.4   \n",
            "4384              2                                         -4.3   \n",
            "4385              2                                         -7.7   \n",
            "4386              2                                          4.0   \n",
            "\n",
            "      DEPART_NORMAL__HDDS_FROM_XN__BASE_OF_65_F_2  \\\n",
            "4382                                          5.0   \n",
            "4383                                          6.5   \n",
            "4384                                        -10.4   \n",
            "4385                                         -4.3   \n",
            "4386                                         -7.7   \n",
            "\n",
            "      DEPART_NORMAL__HDDS_FROM_XN__BASE_OF_65_F_3  \\\n",
            "4382                                          1.4   \n",
            "4383                                          5.0   \n",
            "4384                                          6.5   \n",
            "4385                                        -10.4   \n",
            "4386                                         -4.3   \n",
            "\n",
            "      DEPART_NORMAL__EDDS_FROM_XN__BASE_OF_65_F_1  \\\n",
            "4382                                          7.4   \n",
            "4383                                        -11.3   \n",
            "4384                                         -4.7   \n",
            "4385                                         -8.5   \n",
            "4386                                          4.3   \n",
            "\n",
            "      DEPART_NORMAL__EDDS_FROM_XN__BASE_OF_65_F_2  \\\n",
            "4382                                          5.2   \n",
            "4383                                          7.4   \n",
            "4384                                        -11.3   \n",
            "4385                                         -4.7   \n",
            "4386                                         -8.5   \n",
            "\n",
            "      DEPART_NORMAL__EDDS_FROM_XN__BASE_OF_65_F_3  \\\n",
            "4382                                          1.6   \n",
            "4383                                          5.2   \n",
            "4384                                          7.4   \n",
            "4385                                        -11.3   \n",
            "4386                                         -4.7   \n",
            "\n",
            "      NORMAL_GROWING_DEGREE_DAYS_XN__BASE_OF_50_F_1  \\\n",
            "4382                                            0.0   \n",
            "4383                                            0.0   \n",
            "4384                                            0.0   \n",
            "4385                                            0.0   \n",
            "4386                                            0.0   \n",
            "\n",
            "      NORMAL_GROWING_DEGREE_DAYS_XN__BASE_OF_50_F_2  \\\n",
            "4382                                            0.0   \n",
            "4383                                            0.0   \n",
            "4384                                            0.0   \n",
            "4385                                            0.0   \n",
            "4386                                            0.0   \n",
            "\n",
            "      NORMAL_GROWING_DEGREE_DAYS_XN__BASE_OF_50_F_3  ...  \\\n",
            "4382                                            0.0  ...   \n",
            "4383                                            0.0  ...   \n",
            "4384                                            0.0  ...   \n",
            "4385                                            0.0  ...   \n",
            "4386                                            0.0  ...   \n",
            "\n",
            "      DEPART_NORMAL__CDDS_ALL_HOURS__BASE_OF_65_F_3  \\\n",
            "4382                                            0.0   \n",
            "4383                                            0.0   \n",
            "4384                                            0.0   \n",
            "4385                                            0.0   \n",
            "4386                                            0.0   \n",
            "\n",
            "      DEPART_NORMAL__EDDS_ALL_HOURS__BASE_OF_65_F_1  \\\n",
            "4382                                            6.3   \n",
            "4383                                          -10.4   \n",
            "4384                                           -9.4   \n",
            "4385                                           -9.9   \n",
            "4386                                           -2.9   \n",
            "\n",
            "      DEPART_NORMAL__EDDS_ALL_HOURS__BASE_OF_65_F_2  \\\n",
            "4382                                            5.8   \n",
            "4383                                            6.3   \n",
            "4384                                          -10.4   \n",
            "4385                                           -9.4   \n",
            "4386                                           -9.9   \n",
            "\n",
            "      DEPART_NORMAL__EDDS_ALL_HOURS__BASE_OF_65_F_3  HIGH_TEMP_F_1  \\\n",
            "4382                                            2.0           48.9   \n",
            "4383                                            5.8           53.1   \n",
            "4384                                            6.3           42.8   \n",
            "4385                                          -10.4           44.6   \n",
            "4386                                           -9.4           37.4   \n",
            "\n",
            "      HIGH_TEMP_F_2  HIGH_TEMP_F_3  DFN_AVG_DAILY_TEMP_XN__F_1  \\\n",
            "4382           52.0           52.0                        -6.5   \n",
            "4383           48.9           52.0                        10.4   \n",
            "4384           53.1           48.9                         4.3   \n",
            "4385           42.8           53.1                         7.7   \n",
            "4386           44.6           42.8                        -4.0   \n",
            "\n",
            "      DFN_AVG_DAILY_TEMP_XN__F_2  DFN_AVG_DAILY_TEMP_XN__F_3  \n",
            "4382                        -5.0                        -1.4  \n",
            "4383                        -6.5                        -5.0  \n",
            "4384                        10.4                        -6.5  \n",
            "4385                         4.3                        10.4  \n",
            "4386                         7.7                         4.3  \n",
            "\n",
            "[5 rows x 31 columns]\n"
          ]
        },
        {
          "data": {
            "text/plain": [
              "(731, 31)"
            ]
          },
          "execution_count": 3,
          "metadata": {},
          "output_type": "execute_result"
        }
      ],
      "source": [
        "print(X_train.shape)\n",
        "print(y_train.shape)\n",
        "print(X_val.shape)\n",
        "print(y_val.shape)\n",
        "\n",
        "print(X_train.head())\n",
        "\n",
        "X_test.shape"
      ]
    },
    {
      "cell_type": "code",
      "execution_count": 8,
      "metadata": {
        "pycharm": {}
      },
      "outputs": [
        {
          "name": "stdout",
          "output_type": "stream",
          "text": [
            "INFO:tensorflow:Using default config.\n",
            "INFO:tensorflow:Using config: {\u0027_model_dir\u0027: \u0027tf_wx_model_v3\u0027, \u0027_tf_random_seed\u0027: None, \u0027_save_summary_steps\u0027: 100, \u0027_save_checkpoints_steps\u0027: None, \u0027_save_checkpoints_secs\u0027: 600, \u0027_session_config\u0027: allow_soft_placement: true\n",
            "graph_options {\n",
            "  rewrite_options {\n",
            "    meta_optimizer_iterations: ONE\n",
            "  }\n",
            "}\n",
            ", \u0027_keep_checkpoint_max\u0027: 5, \u0027_keep_checkpoint_every_n_hours\u0027: 10000, \u0027_log_step_count_steps\u0027: 100, \u0027_train_distribute\u0027: None, \u0027_device_fn\u0027: None, \u0027_protocol\u0027: None, \u0027_eval_distribute\u0027: None, \u0027_experimental_distribute\u0027: None, \u0027_service\u0027: None, \u0027_cluster_spec\u0027: \u003ctensorflow.python.training.server_lib.ClusterSpec object at 0x1a3987e4e0\u003e, \u0027_task_type\u0027: \u0027worker\u0027, \u0027_task_id\u0027: 0, \u0027_global_id_in_cluster\u0027: 0, \u0027_master\u0027: \u0027\u0027, \u0027_evaluation_master\u0027: \u0027\u0027, \u0027_is_chief\u0027: True, \u0027_num_ps_replicas\u0027: 0, \u0027_num_worker_replicas\u0027: 1}\n"
          ]
        }
      ],
      "source": [
        "regressor \u003d tf.estimator.DNNRegressor(feature_columns\u003dfeature_cols,\n",
        "                                      hidden_units\u003d[50,50],\n",
        "                                      model_dir\u003d\u0027tf_wx_model_v3\u0027)\n",
        "\n",
        "def wx_input_fn(X, y\u003dNone, num_epochs\u003dNone, shuffle\u003dTrue, batch_size\u003d2400):\n",
        "    return tf.estimator.inputs.pandas_input_fn(x\u003d,\n",
        "                                               y\u003d,\n",
        "                                               num_epochs\u003dnum_epochs,\n",
        "                                               shuffle\u003dshuffle,\n",
        "                                               batch_size\u003dbatch_size)\n"
      ]
    },
    {
      "cell_type": "code",
      "execution_count": null,
      "metadata": {
        "pycharm": {}
      },
      "outputs": [],
      "source": [
        "evaluations \u003d []\n",
        "STEPS \u003d 2300\n",
        "for i in range(100):\n",
        "    regressor.train(input_fn\u003dwx_input_fn(X_train, y\u003dy_train), steps\u003dSTEPS)\n",
        "    evaluations.append(regressor.evaluate(input_fn\u003dwx_input_fn(X_val,\n",
        "                                                               y_val,\n",
        "                                                               num_epochs\u003d1,\n",
        "                                                               shuffle\u003dFalse)))"
      ]
    },
    {
      "cell_type": "code",
      "execution_count": null,
      "metadata": {
        "pycharm": {}
      },
      "outputs": [],
      "source": [
        "import matplotlib.pyplot as plt  \n",
        "%matplotlib inline\n",
        "\n",
        "# manually set the parameters of the figure to and appropriate size\n",
        "plt.rcParams[\u0027figure.figsize\u0027] \u003d [14, 10]\n",
        "\n",
        "loss_values \u003d [ev[\u0027loss\u0027] for ev in evaluations]  \n",
        "training_steps \u003d [ev[\u0027global_step\u0027] for ev in evaluations]\n",
        "\n",
        "plt.scatter(x\u003dtraining_steps, y\u003dloss_values)  \n",
        "plt.xlabel(\u0027Training steps (Epochs \u003d steps / 2)\u0027)  \n",
        "plt.ylabel(\u0027Loss (SSE)\u0027)  \n",
        "plt.show()  "
      ]
    },
    {
      "cell_type": "code",
      "execution_count": 16,
      "metadata": {
        "pycharm": {}
      },
      "outputs": [
        {
          "name": "stdout",
          "output_type": "stream",
          "text": [
            "INFO:tensorflow:Calling model_fn.\n",
            "INFO:tensorflow:Done calling model_fn.\n",
            "INFO:tensorflow:Graph was finalized.\n",
            "INFO:tensorflow:Restoring parameters from tf_wx_model_v3/model.ckpt-101200\n",
            "INFO:tensorflow:Running local_init_op.\n",
            "INFO:tensorflow:Done running local_init_op.\n"
          ]
        },
        {
          "ename": "ValueError",
          "evalue": "Found input variables with inconsistent numbers of samples: [731, 2191]",
          "output_type": "error",
          "traceback": [
            "\u001b[0;31m---------------------------------------------------------------------------\u001b[0m",
            "\u001b[0;31mValueError\u001b[0m                                Traceback (most recent call last)",
            "\u001b[0;32m\u003cipython-input-16-8fc66da31c10\u003e\u001b[0m in \u001b[0;36m\u003cmodule\u003e\u001b[0;34m\u001b[0m\n\u001b[1;32m      5\u001b[0m \u001b[0;34m\u001b[0m\u001b[0m\n\u001b[1;32m      6\u001b[0m print(\"The Explained Variance: %.2f\" % explained_variance_score(  \n\u001b[0;32m----\u003e 7\u001b[0;31m                                             y_val, predictions))  \n\u001b[0m\u001b[1;32m      8\u001b[0m \u001b[0;31m# print(\"The Mean Absolute Error: %.2f degrees Celcius\" % mean_absolute_error(\u001b[0m\u001b[0;34m\u001b[0m\u001b[0;34m\u001b[0m\u001b[0;34m\u001b[0m\u001b[0m\n\u001b[1;32m      9\u001b[0m \u001b[0;31m#                                             y_val, predictions))\u001b[0m\u001b[0;34m\u001b[0m\u001b[0;34m\u001b[0m\u001b[0;34m\u001b[0m\u001b[0m\n",
            "\u001b[0;32m/anaconda3/envs/tensorflow_env/lib/python3.7/site-packages/sklearn/metrics/regression.py\u001b[0m in \u001b[0;36mexplained_variance_score\u001b[0;34m(y_true, y_pred, sample_weight, multioutput)\u001b[0m\n\u001b[1;32m    413\u001b[0m     \"\"\"\n\u001b[1;32m    414\u001b[0m     y_type, y_true, y_pred, multioutput \u003d _check_reg_targets(\n\u001b[0;32m--\u003e 415\u001b[0;31m         y_true, y_pred, multioutput)\n\u001b[0m\u001b[1;32m    416\u001b[0m     \u001b[0mcheck_consistent_length\u001b[0m\u001b[0;34m(\u001b[0m\u001b[0my_true\u001b[0m\u001b[0;34m,\u001b[0m \u001b[0my_pred\u001b[0m\u001b[0;34m,\u001b[0m \u001b[0msample_weight\u001b[0m\u001b[0;34m)\u001b[0m\u001b[0;34m\u001b[0m\u001b[0;34m\u001b[0m\u001b[0m\n\u001b[1;32m    417\u001b[0m \u001b[0;34m\u001b[0m\u001b[0m\n",
            "\u001b[0;32m/anaconda3/envs/tensorflow_env/lib/python3.7/site-packages/sklearn/metrics/regression.py\u001b[0m in \u001b[0;36m_check_reg_targets\u001b[0;34m(y_true, y_pred, multioutput)\u001b[0m\n\u001b[1;32m     75\u001b[0m \u001b[0;34m\u001b[0m\u001b[0m\n\u001b[1;32m     76\u001b[0m     \"\"\"\n\u001b[0;32m---\u003e 77\u001b[0;31m     \u001b[0mcheck_consistent_length\u001b[0m\u001b[0;34m(\u001b[0m\u001b[0my_true\u001b[0m\u001b[0;34m,\u001b[0m \u001b[0my_pred\u001b[0m\u001b[0;34m)\u001b[0m\u001b[0;34m\u001b[0m\u001b[0;34m\u001b[0m\u001b[0m\n\u001b[0m\u001b[1;32m     78\u001b[0m     \u001b[0my_true\u001b[0m \u001b[0;34m\u003d\u001b[0m \u001b[0mcheck_array\u001b[0m\u001b[0;34m(\u001b[0m\u001b[0my_true\u001b[0m\u001b[0;34m,\u001b[0m \u001b[0mensure_2d\u001b[0m\u001b[0;34m\u003d\u001b[0m\u001b[0;32mFalse\u001b[0m\u001b[0;34m)\u001b[0m\u001b[0;34m\u001b[0m\u001b[0;34m\u001b[0m\u001b[0m\n\u001b[1;32m     79\u001b[0m     \u001b[0my_pred\u001b[0m \u001b[0;34m\u003d\u001b[0m \u001b[0mcheck_array\u001b[0m\u001b[0;34m(\u001b[0m\u001b[0my_pred\u001b[0m\u001b[0;34m,\u001b[0m \u001b[0mensure_2d\u001b[0m\u001b[0;34m\u003d\u001b[0m\u001b[0;32mFalse\u001b[0m\u001b[0;34m)\u001b[0m\u001b[0;34m\u001b[0m\u001b[0;34m\u001b[0m\u001b[0m\n",
            "\u001b[0;32m/anaconda3/envs/tensorflow_env/lib/python3.7/site-packages/sklearn/utils/validation.py\u001b[0m in \u001b[0;36mcheck_consistent_length\u001b[0;34m(*arrays)\u001b[0m\n\u001b[1;32m    203\u001b[0m     \u001b[0;32mif\u001b[0m \u001b[0mlen\u001b[0m\u001b[0;34m(\u001b[0m\u001b[0muniques\u001b[0m\u001b[0;34m)\u001b[0m \u001b[0;34m\u003e\u001b[0m \u001b[0;36m1\u001b[0m\u001b[0;34m:\u001b[0m\u001b[0;34m\u001b[0m\u001b[0;34m\u001b[0m\u001b[0m\n\u001b[1;32m    204\u001b[0m         raise ValueError(\"Found input variables with inconsistent numbers of\"\n\u001b[0;32m--\u003e 205\u001b[0;31m                          \" samples: %r\" % [int(l) for l in lengths])\n\u001b[0m\u001b[1;32m    206\u001b[0m \u001b[0;34m\u001b[0m\u001b[0m\n\u001b[1;32m    207\u001b[0m \u001b[0;34m\u001b[0m\u001b[0m\n",
            "\u001b[0;31mValueError\u001b[0m: Found input variables with inconsistent numbers of samples: [731, 2191]"
          ]
        }
      ],
      "source": [
        "pred \u003d regressor.predict(input_fn\u003dwx_input_fn(X_val,  \n",
        "                                              num_epochs\u003d1,\n",
        "                                              shuffle\u003dFalse))\n",
        "predictions \u003d np.array([p[\u0027predictions\u0027][0] for p in pred])\n",
        "\n",
        "print(\"The Explained Variance: %.2f\" % explained_variance_score(  \n",
        "                                            y_val, predictions))  \n",
        "# print(\"The Mean Absolute Error: %.2f degrees Celcius\" % mean_absolute_error(  \n",
        "#                                             y_val, predictions))  \n",
        "# print(\"The Median Absolute Error: %.2f degrees Celcius\" % median_absolute_error(  \n",
        "#                                             y_val, predictions))"
      ]
    },
    {
      "cell_type": "code",
      "execution_count": 28,
      "metadata": {
        "pycharm": {}
      },
      "outputs": [
        {
          "data": {
            "text/plain": [
              "()"
            ]
          },
          "execution_count": 28,
          "metadata": {},
          "output_type": "execute_result"
        }
      ],
      "source": [
        "#y_val.shape\n",
        "predictions[0].shape"
      ]
    },
    {
      "cell_type": "code",
      "execution_count": 18,
      "metadata": {
        "pycharm": {}
      },
      "outputs": [
        {
          "data": {
            "text/plain": [
              "(2191,)"
            ]
          },
          "execution_count": 18,
          "metadata": {},
          "output_type": "execute_result"
        }
      ],
      "source": [
        "predictions.shape"
      ]
    },
    {
      "cell_type": "code",
      "execution_count": null,
      "metadata": {
        "pycharm": {}
      },
      "outputs": [],
      "source": []
    }
  ],
  "metadata": {
    "kernelspec": {
      "display_name": "Python 3",
      "language": "python",
      "name": "python3"
    },
    "language_info": {
      "codemirror_mode": {
        "name": "ipython",
        "version": 3
      },
      "file_extension": ".py",
      "mimetype": "text/x-python",
      "name": "python",
      "nbconvert_exporter": "python",
      "pygments_lexer": "ipython3",
      "version": "3.7.3"
    }
  },
  "nbformat": 4,
  "nbformat_minor": 2
}